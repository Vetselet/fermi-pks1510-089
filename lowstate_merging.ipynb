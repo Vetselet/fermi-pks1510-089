{
 "metadata": {
  "language_info": {
   "codemirror_mode": {
    "name": "ipython",
    "version": 3
   },
   "file_extension": ".py",
   "mimetype": "text/x-python",
   "name": "python",
   "nbconvert_exporter": "python",
   "pygments_lexer": "ipython3",
   "version": "2.7.14-final"
  },
  "orig_nbformat": 2,
  "kernelspec": {
   "name": "python_defaultSpec_1595197991094",
   "display_name": "Python 2.7.14 64-bit ('fermipy': conda)"
  }
 },
 "nbformat": 4,
 "nbformat_minor": 2,
 "cells": [
  {
   "cell_type": "markdown",
   "metadata": {},
   "source": [
    "# Подготовка объединённой статистики по low-state источника PKS1510-089\n",
    "\n",
    "Временные интервалы, отобранные в `lowstate_selection.ipynb`, нужно загрузить из файла, с помощью модуля `lowstate_extraction` достать данные Fermi для каждого из них и итерационно объединить.\n",
    "\n",
    "Команда `gtltsum infile1 infile2 outfile`"
   ]
  },
  {
   "cell_type": "code",
   "execution_count": null,
   "metadata": {},
   "outputs": [],
   "source": [
    "import fermipy\n",
    "\n",
    "from lowstate_extraction import extract_photons_data"
   ]
  }
 ]
}